{
 "cells": [
  {
   "cell_type": "markdown",
   "metadata": {},
   "source": [
    "## 1. Why I have this question:"
   ]
  },
  {
   "cell_type": "markdown",
   "metadata": {},
   "source": [
    "- Facebook is the biggest social network company in the world.\n",
    "- The number of users are one of the most significant metrics for stakeholders. The company disclose number of users in four regions( US and Canada, Europe, Asia and Pacific, Rest of World ) quarterly.\n",
    "- In the last half year, Facebook stock price has experienced two sharp falls because of market concerns about user growth(one by Cambridge Analytica scandal, the other by General Data Protection Regulation (GDPR) compliance)."
   ]
  },
  {
   "cell_type": "markdown",
   "metadata": {},
   "source": [
    "## 2. How I simulate users growth?"
   ]
  },
  {
   "cell_type": "markdown",
   "metadata": {},
   "source": [
    "### 2.1 My understanding of Facebook user growth in the next 5 years"
   ]
  },
  {
   "cell_type": "markdown",
   "metadata": {},
   "source": [
    "- Based on improving algorithm and data scientists' research, user experience gets better and better.\n",
    "- Social network has a special attribute: the more connected people in this network, the easier to join, and the harder to leave.\n",
    "- In most part of world, Facebook has no similar size opponent and no scalable competition."
   ]
  },
  {
   "cell_type": "markdown",
   "metadata": {},
   "source": [
    "### 2.2 Two stages of user growth simulation"
   ]
  },
  {
   "cell_type": "markdown",
   "metadata": {},
   "source": [
    "Based on my understanding of Facebook user growth, I divide the user growth into two stages."
   ]
  },
  {
   "cell_type": "markdown",
   "metadata": {},
   "source": [
    "> **2.2.1 User growth before saturation**<br>\n",
    "Users increase very fast at the beginning, and acceleration slows down when the user base becomes bigger and bigger, and then stagnates at the peak. This user acquisition pace seems perfectly fit the left part of open faced two degree polynomial curve. The basic function is: <br>\n",
    "$y=b\\left(x-a\\right)^2+c$ <br>\n",
    "In this equation, a is the limit time, and c is limit peak, b determines the user increase rate.<br>\n",
    "If we go further with the equation: <br>\n",
    "$y=bx^2-2abx+ba^2+c$"
   ]
  },
  {
   "cell_type": "markdown",
   "metadata": {},
   "source": [
    "> **2.2.2 User growth after saturation**<br>\n",
    "When users increase stagnates, the popularization rate stay same, and the user increases as the population increases naturally. So I calculate the users number as popularization rate times the whole population."
   ]
  },
  {
   "cell_type": "markdown",
   "metadata": {},
   "source": [
    "### 2.3 Some assumptions based on consideration of reality factors"
   ]
  },
  {
   "cell_type": "markdown",
   "metadata": {},
   "source": [
    "- The US and Canada market is saturated now in terms of number of users. The popularization rate is really high(More than half of the population are Facebook users).\n",
    "- The Europe, Asia and Pacific and Rest of World market are still not saturated. I assume they will reach saturation at the end of 2021(three years from now). The assumption I made here may be not accurate but reasonable.\n",
    "- I also assume that the popularization rate in Europe, Asia and Pacific and Rest of World after saturation will be lower than one in US and Canada by 10%, 30%, 25%. The assumption I made here is conservative."
   ]
  },
  {
   "cell_type": "markdown",
   "metadata": {},
   "source": [
    "## 3. My Simulation Process"
   ]
  },
  {
   "cell_type": "markdown",
   "metadata": {},
   "source": [
    "### 3.1 Import modules"
   ]
  },
  {
   "cell_type": "code",
   "execution_count": 25,
   "metadata": {},
   "outputs": [],
   "source": [
    "import seaborn as sns\n",
    "import pandas as pd\n",
    "import numpy as np\n",
    "import matplotlib.pyplot as plt\n",
    "from IPython.display import display\n",
    "from matplotlib import pylab\n",
    "import scipy.optimize as optimization;"
   ]
  },
  {
   "cell_type": "markdown",
   "metadata": {},
   "source": [
    "### 3.2 Import Data"
   ]
  },
  {
   "cell_type": "markdown",
   "metadata": {},
   "source": [
    "- I manually collect the user number data from Facebook quarter report and annual report. The unit in data is million.\n",
    "- I also collect population data from website. http://www.worldometers.info/world-population/northern-america-population/ I exclude China population from Asia and Pacific region because Facebook is inaccessible in China."
   ]
  },
  {
   "cell_type": "code",
   "execution_count": 26,
   "metadata": {},
   "outputs": [],
   "source": [
    "data_dau = pd.read_csv('FB DAU&MAU.csv', index_col=0)\n",
    "data_pop = pd.read_csv('World Population.csv', index_col=0)"
   ]
  },
  {
   "cell_type": "code",
   "execution_count": 27,
   "metadata": {},
   "outputs": [
    {
     "data": {
      "text/html": [
       "<div>\n",
       "<style scoped>\n",
       "    .dataframe tbody tr th:only-of-type {\n",
       "        vertical-align: middle;\n",
       "    }\n",
       "\n",
       "    .dataframe tbody tr th {\n",
       "        vertical-align: top;\n",
       "    }\n",
       "\n",
       "    .dataframe thead th {\n",
       "        text-align: right;\n",
       "    }\n",
       "</style>\n",
       "<table border=\"1\" class=\"dataframe\">\n",
       "  <thead>\n",
       "    <tr style=\"text-align: right;\">\n",
       "      <th></th>\n",
       "      <th>Q2'11</th>\n",
       "      <th>Q3'11</th>\n",
       "      <th>Q4'11</th>\n",
       "      <th>Q1'12</th>\n",
       "      <th>Q2'12</th>\n",
       "      <th>Q3'12</th>\n",
       "      <th>Q4'12</th>\n",
       "      <th>Q1'13</th>\n",
       "      <th>Q2'13</th>\n",
       "      <th>Q3'13</th>\n",
       "      <th>...</th>\n",
       "      <th>Q1'16</th>\n",
       "      <th>Q2'16</th>\n",
       "      <th>Q3'16</th>\n",
       "      <th>Q4'16</th>\n",
       "      <th>Q1'17</th>\n",
       "      <th>Q2'17</th>\n",
       "      <th>Q3'17</th>\n",
       "      <th>Q4'17</th>\n",
       "      <th>Q1'18</th>\n",
       "      <th>Q2'18</th>\n",
       "    </tr>\n",
       "    <tr>\n",
       "      <th>Region</th>\n",
       "      <th></th>\n",
       "      <th></th>\n",
       "      <th></th>\n",
       "      <th></th>\n",
       "      <th></th>\n",
       "      <th></th>\n",
       "      <th></th>\n",
       "      <th></th>\n",
       "      <th></th>\n",
       "      <th></th>\n",
       "      <th></th>\n",
       "      <th></th>\n",
       "      <th></th>\n",
       "      <th></th>\n",
       "      <th></th>\n",
       "      <th></th>\n",
       "      <th></th>\n",
       "      <th></th>\n",
       "      <th></th>\n",
       "      <th></th>\n",
       "      <th></th>\n",
       "    </tr>\n",
       "  </thead>\n",
       "  <tbody>\n",
       "    <tr>\n",
       "      <th>US &amp; Canada</th>\n",
       "      <td>117</td>\n",
       "      <td>124</td>\n",
       "      <td>126</td>\n",
       "      <td>129</td>\n",
       "      <td>130</td>\n",
       "      <td>132</td>\n",
       "      <td>135</td>\n",
       "      <td>139</td>\n",
       "      <td>142</td>\n",
       "      <td>144</td>\n",
       "      <td>...</td>\n",
       "      <td>173</td>\n",
       "      <td>175</td>\n",
       "      <td>178</td>\n",
       "      <td>180</td>\n",
       "      <td>182</td>\n",
       "      <td>183</td>\n",
       "      <td>185</td>\n",
       "      <td>184</td>\n",
       "      <td>185</td>\n",
       "      <td>185</td>\n",
       "    </tr>\n",
       "    <tr>\n",
       "      <th>Europe</th>\n",
       "      <td>127</td>\n",
       "      <td>135</td>\n",
       "      <td>143</td>\n",
       "      <td>152</td>\n",
       "      <td>154</td>\n",
       "      <td>160</td>\n",
       "      <td>169</td>\n",
       "      <td>179</td>\n",
       "      <td>182</td>\n",
       "      <td>188</td>\n",
       "      <td>...</td>\n",
       "      <td>249</td>\n",
       "      <td>252</td>\n",
       "      <td>256</td>\n",
       "      <td>262</td>\n",
       "      <td>267</td>\n",
       "      <td>271</td>\n",
       "      <td>274</td>\n",
       "      <td>277</td>\n",
       "      <td>282</td>\n",
       "      <td>279</td>\n",
       "    </tr>\n",
       "    <tr>\n",
       "      <th>Asia-Pacific</th>\n",
       "      <td>85</td>\n",
       "      <td>98</td>\n",
       "      <td>105</td>\n",
       "      <td>119</td>\n",
       "      <td>129</td>\n",
       "      <td>141</td>\n",
       "      <td>153</td>\n",
       "      <td>167</td>\n",
       "      <td>181</td>\n",
       "      <td>189</td>\n",
       "      <td>...</td>\n",
       "      <td>329</td>\n",
       "      <td>346</td>\n",
       "      <td>368</td>\n",
       "      <td>396</td>\n",
       "      <td>427</td>\n",
       "      <td>453</td>\n",
       "      <td>476</td>\n",
       "      <td>499</td>\n",
       "      <td>529</td>\n",
       "      <td>546</td>\n",
       "    </tr>\n",
       "    <tr>\n",
       "      <th>Rest of World</th>\n",
       "      <td>87</td>\n",
       "      <td>100</td>\n",
       "      <td>109</td>\n",
       "      <td>126</td>\n",
       "      <td>139</td>\n",
       "      <td>152</td>\n",
       "      <td>161</td>\n",
       "      <td>180</td>\n",
       "      <td>195</td>\n",
       "      <td>208</td>\n",
       "      <td>...</td>\n",
       "      <td>340</td>\n",
       "      <td>355</td>\n",
       "      <td>377</td>\n",
       "      <td>388</td>\n",
       "      <td>408</td>\n",
       "      <td>419</td>\n",
       "      <td>433</td>\n",
       "      <td>441</td>\n",
       "      <td>453</td>\n",
       "      <td>461</td>\n",
       "    </tr>\n",
       "  </tbody>\n",
       "</table>\n",
       "<p>4 rows × 29 columns</p>\n",
       "</div>"
      ],
      "text/plain": [
       "               Q2'11  Q3'11  Q4'11  Q1'12  Q2'12  Q3'12  Q4'12  Q1'13  Q2'13  \\\n",
       "Region                                                                         \n",
       "US & Canada      117    124    126    129    130    132    135    139    142   \n",
       "Europe           127    135    143    152    154    160    169    179    182   \n",
       "Asia-Pacific      85     98    105    119    129    141    153    167    181   \n",
       "Rest of World     87    100    109    126    139    152    161    180    195   \n",
       "\n",
       "               Q3'13  ...    Q1'16  Q2'16  Q3'16  Q4'16  Q1'17  Q2'17  Q3'17  \\\n",
       "Region                ...                                                      \n",
       "US & Canada      144  ...      173    175    178    180    182    183    185   \n",
       "Europe           188  ...      249    252    256    262    267    271    274   \n",
       "Asia-Pacific     189  ...      329    346    368    396    427    453    476   \n",
       "Rest of World    208  ...      340    355    377    388    408    419    433   \n",
       "\n",
       "               Q4'17  Q1'18  Q2'18  \n",
       "Region                              \n",
       "US & Canada      184    185    185  \n",
       "Europe           277    282    279  \n",
       "Asia-Pacific     499    529    546  \n",
       "Rest of World    441    453    461  \n",
       "\n",
       "[4 rows x 29 columns]"
      ]
     },
     "execution_count": 27,
     "metadata": {},
     "output_type": "execute_result"
    }
   ],
   "source": [
    "data_dau"
   ]
  },
  {
   "cell_type": "code",
   "execution_count": 28,
   "metadata": {},
   "outputs": [
    {
     "data": {
      "text/html": [
       "<div>\n",
       "<style scoped>\n",
       "    .dataframe tbody tr th:only-of-type {\n",
       "        vertical-align: middle;\n",
       "    }\n",
       "\n",
       "    .dataframe tbody tr th {\n",
       "        vertical-align: top;\n",
       "    }\n",
       "\n",
       "    .dataframe thead th {\n",
       "        text-align: right;\n",
       "    }\n",
       "</style>\n",
       "<table border=\"1\" class=\"dataframe\">\n",
       "  <thead>\n",
       "    <tr style=\"text-align: right;\">\n",
       "      <th></th>\n",
       "      <th>2018</th>\n",
       "      <th>2019</th>\n",
       "      <th>2020</th>\n",
       "      <th>2021</th>\n",
       "      <th>2022</th>\n",
       "      <th>2023</th>\n",
       "      <th>2024</th>\n",
       "      <th>2025</th>\n",
       "      <th>2026</th>\n",
       "      <th>2027</th>\n",
       "      <th>2028</th>\n",
       "      <th>Growth Rate</th>\n",
       "    </tr>\n",
       "    <tr>\n",
       "      <th>Region</th>\n",
       "      <th></th>\n",
       "      <th></th>\n",
       "      <th></th>\n",
       "      <th></th>\n",
       "      <th></th>\n",
       "      <th></th>\n",
       "      <th></th>\n",
       "      <th></th>\n",
       "      <th></th>\n",
       "      <th></th>\n",
       "      <th></th>\n",
       "      <th></th>\n",
       "    </tr>\n",
       "  </thead>\n",
       "  <tbody>\n",
       "    <tr>\n",
       "      <th>US &amp; Canada</th>\n",
       "      <td>363</td>\n",
       "      <td>365.541</td>\n",
       "      <td>368.099787</td>\n",
       "      <td>370.676486</td>\n",
       "      <td>373.271221</td>\n",
       "      <td>375.884119</td>\n",
       "      <td>378.515308</td>\n",
       "      <td>381.164915</td>\n",
       "      <td>383.833070</td>\n",
       "      <td>386.519901</td>\n",
       "      <td>389.225541</td>\n",
       "      <td>0.007</td>\n",
       "    </tr>\n",
       "    <tr>\n",
       "      <th>Europe</th>\n",
       "      <td>743</td>\n",
       "      <td>743.743</td>\n",
       "      <td>744.486743</td>\n",
       "      <td>745.231230</td>\n",
       "      <td>745.976461</td>\n",
       "      <td>746.722437</td>\n",
       "      <td>747.469160</td>\n",
       "      <td>748.216629</td>\n",
       "      <td>748.964846</td>\n",
       "      <td>749.713811</td>\n",
       "      <td>750.463524</td>\n",
       "      <td>0.001</td>\n",
       "    </tr>\n",
       "    <tr>\n",
       "      <th>Asia-Pacific_exclude_China</th>\n",
       "      <td>3174</td>\n",
       "      <td>3214.236</td>\n",
       "      <td>3254.908344</td>\n",
       "      <td>3296.021531</td>\n",
       "      <td>3337.580107</td>\n",
       "      <td>3379.588662</td>\n",
       "      <td>3422.051833</td>\n",
       "      <td>3464.974305</td>\n",
       "      <td>3508.360811</td>\n",
       "      <td>3552.216128</td>\n",
       "      <td>3596.545085</td>\n",
       "      <td>0.010</td>\n",
       "    </tr>\n",
       "    <tr>\n",
       "      <th>Rest of World</th>\n",
       "      <td>1944</td>\n",
       "      <td>1967.328</td>\n",
       "      <td>1990.935936</td>\n",
       "      <td>2014.827167</td>\n",
       "      <td>2039.005093</td>\n",
       "      <td>2063.473154</td>\n",
       "      <td>2088.234832</td>\n",
       "      <td>2113.293650</td>\n",
       "      <td>2138.653174</td>\n",
       "      <td>2164.317012</td>\n",
       "      <td>2190.288816</td>\n",
       "      <td>0.012</td>\n",
       "    </tr>\n",
       "    <tr>\n",
       "      <th>China</th>\n",
       "      <td>1416</td>\n",
       "      <td>1421.664</td>\n",
       "      <td>1427.350656</td>\n",
       "      <td>1433.060059</td>\n",
       "      <td>1438.792299</td>\n",
       "      <td>1444.547468</td>\n",
       "      <td>1450.325658</td>\n",
       "      <td>1456.126961</td>\n",
       "      <td>1461.951468</td>\n",
       "      <td>1467.799274</td>\n",
       "      <td>1473.670471</td>\n",
       "      <td>0.004</td>\n",
       "    </tr>\n",
       "    <tr>\n",
       "      <th>Asia-Pacific</th>\n",
       "      <td>4590</td>\n",
       "      <td>4635.900</td>\n",
       "      <td>4682.259000</td>\n",
       "      <td>4729.081590</td>\n",
       "      <td>4776.372406</td>\n",
       "      <td>4824.136130</td>\n",
       "      <td>4872.377491</td>\n",
       "      <td>4921.101266</td>\n",
       "      <td>4970.312279</td>\n",
       "      <td>5020.015402</td>\n",
       "      <td>5070.215556</td>\n",
       "      <td>0.010</td>\n",
       "    </tr>\n",
       "  </tbody>\n",
       "</table>\n",
       "</div>"
      ],
      "text/plain": [
       "                            2018      2019         2020         2021  \\\n",
       "Region                                                                 \n",
       "US & Canada                  363   365.541   368.099787   370.676486   \n",
       "Europe                       743   743.743   744.486743   745.231230   \n",
       "Asia-Pacific_exclude_China  3174  3214.236  3254.908344  3296.021531   \n",
       "Rest of World               1944  1967.328  1990.935936  2014.827167   \n",
       "China                       1416  1421.664  1427.350656  1433.060059   \n",
       "Asia-Pacific                4590  4635.900  4682.259000  4729.081590   \n",
       "\n",
       "                                   2022         2023         2024  \\\n",
       "Region                                                              \n",
       "US & Canada                  373.271221   375.884119   378.515308   \n",
       "Europe                       745.976461   746.722437   747.469160   \n",
       "Asia-Pacific_exclude_China  3337.580107  3379.588662  3422.051833   \n",
       "Rest of World               2039.005093  2063.473154  2088.234832   \n",
       "China                       1438.792299  1444.547468  1450.325658   \n",
       "Asia-Pacific                4776.372406  4824.136130  4872.377491   \n",
       "\n",
       "                                   2025         2026         2027  \\\n",
       "Region                                                              \n",
       "US & Canada                  381.164915   383.833070   386.519901   \n",
       "Europe                       748.216629   748.964846   749.713811   \n",
       "Asia-Pacific_exclude_China  3464.974305  3508.360811  3552.216128   \n",
       "Rest of World               2113.293650  2138.653174  2164.317012   \n",
       "China                       1456.126961  1461.951468  1467.799274   \n",
       "Asia-Pacific                4921.101266  4970.312279  5020.015402   \n",
       "\n",
       "                                   2028  Growth Rate  \n",
       "Region                                                \n",
       "US & Canada                  389.225541        0.007  \n",
       "Europe                       750.463524        0.001  \n",
       "Asia-Pacific_exclude_China  3596.545085        0.010  \n",
       "Rest of World               2190.288816        0.012  \n",
       "China                       1473.670471        0.004  \n",
       "Asia-Pacific                5070.215556        0.010  "
      ]
     },
     "execution_count": 28,
     "metadata": {},
     "output_type": "execute_result"
    }
   ],
   "source": [
    "data_pop"
   ]
  },
  {
   "cell_type": "markdown",
   "metadata": {},
   "source": [
    "### 3.3 User Acquisition Curve by Region Market"
   ]
  },
  {
   "cell_type": "markdown",
   "metadata": {},
   "source": [
    "### 3.3.1. US and Canada market"
   ]
  },
  {
   "cell_type": "markdown",
   "metadata": {},
   "source": [
    "More than half of population in US and Canada Market are already Facebook daily active users."
   ]
  },
  {
   "cell_type": "code",
   "execution_count": 29,
   "metadata": {},
   "outputs": [
    {
     "data": {
      "text/plain": [
       "0.509641873278237"
      ]
     },
     "execution_count": 29,
     "metadata": {},
     "output_type": "execute_result"
    }
   ],
   "source": [
    "user_US_Canada = data_dau.iloc[0]\n",
    "pop_US_Canada = data_pop.iloc[0,0:-1]\n",
    "ratio_ceiling_US_Canada = data_dau.iloc[0,-1] / data_pop.iloc[0,0]\n",
    "ratio_ceiling_US_Canada"
   ]
  },
  {
   "cell_type": "markdown",
   "metadata": {},
   "source": [
    "build a fit function for US and Canada"
   ]
  },
  {
   "cell_type": "code",
   "execution_count": 30,
   "metadata": {},
   "outputs": [],
   "source": [
    "time_saturate_US_Canada = 2018.5 \n",
    "def func_US(x,b):\n",
    "    return b*x*x-2*time_saturate_US_Canada*b*x+b*time_saturate_US_Canada*time_saturate_US_Canada+user_US_Canada[-1]"
   ]
  },
  {
   "cell_type": "markdown",
   "metadata": {},
   "source": [
    "fit the curve for first stage"
   ]
  },
  {
   "cell_type": "code",
   "execution_count": 31,
   "metadata": {},
   "outputs": [
    {
     "data": {
      "text/plain": [
       "array([ 97.53604875, 119.3048544 , 137.96383066, 153.51297755,\n",
       "       165.95229506, 175.28178319, 181.50144195])"
      ]
     },
     "execution_count": 31,
     "metadata": {},
     "output_type": "execute_result"
    }
   ],
   "source": [
    "time = np.linspace(2011.5,2018.5,29)\n",
    "user_estimate_US_Canada_before2018 = func_US(np.linspace(2011,2017,7),optimization.curve_fit(\n",
    "    func_US,time,user_US_Canada)[0])\n",
    "user_estimate_US_Canada_before2018"
   ]
  },
  {
   "cell_type": "markdown",
   "metadata": {},
   "source": [
    "fit the curve for second stage"
   ]
  },
  {
   "cell_type": "code",
   "execution_count": 32,
   "metadata": {},
   "outputs": [
    {
     "data": {
      "text/plain": [
       "array([185.        , 186.295     , 187.599065  , 188.91225845,\n",
       "       190.23464426, 191.5662868 , 192.90725079, 194.25760151,\n",
       "       195.61740477, 196.98672656, 198.36563369])"
      ]
     },
     "execution_count": 32,
     "metadata": {},
     "output_type": "execute_result"
    }
   ],
   "source": [
    "user_estimate_US_Canada_after2018 = (pop_US_Canada*ratio_ceiling_US_Canada).values\n",
    "user_estimate_US_Canada_after2018"
   ]
  },
  {
   "cell_type": "markdown",
   "metadata": {},
   "source": [
    "combine into one estimate data"
   ]
  },
  {
   "cell_type": "code",
   "execution_count": 33,
   "metadata": {},
   "outputs": [
    {
     "data": {
      "text/plain": [
       "array([ 97.53604875, 119.3048544 , 137.96383066, 153.51297755,\n",
       "       165.95229506, 175.28178319, 181.50144195, 185.        ,\n",
       "       186.295     , 187.599065  , 188.91225845, 190.23464426,\n",
       "       191.5662868 , 192.90725079, 194.25760151, 195.61740477,\n",
       "       196.98672656, 198.36563369])"
      ]
     },
     "execution_count": 33,
     "metadata": {},
     "output_type": "execute_result"
    }
   ],
   "source": [
    "user_estimate_US_Canada = np.append(user_estimate_US_Canada_before2018,user_estimate_US_Canada_after2018)\n",
    "user_estimate_US_Canada"
   ]
  },
  {
   "cell_type": "markdown",
   "metadata": {},
   "source": [
    "### 3.3.2. Europe market"
   ]
  },
  {
   "cell_type": "markdown",
   "metadata": {},
   "source": [
    "I assume the saturation rate in Europe would be 10% lower than one in US and Canada market."
   ]
  },
  {
   "cell_type": "code",
   "execution_count": 34,
   "metadata": {},
   "outputs": [
    {
     "data": {
      "text/plain": [
       "0.409641873278237"
      ]
     },
     "execution_count": 34,
     "metadata": {},
     "output_type": "execute_result"
    }
   ],
   "source": [
    "user_Europe = data_dau.iloc[1]\n",
    "pop_Europe = data_pop.iloc[1,0:-1]\n",
    "ratio_ceiling_Europe = ratio_ceiling_US_Canada - 0.1\n",
    "ratio_ceiling_Europe"
   ]
  },
  {
   "cell_type": "markdown",
   "metadata": {},
   "source": [
    "Calculate the peak point for first stage"
   ]
  },
  {
   "cell_type": "code",
   "execution_count": 35,
   "metadata": {},
   "outputs": [
    {
     "data": {
      "text/plain": [
       "305.2779169597521"
      ]
     },
     "execution_count": 35,
     "metadata": {},
     "output_type": "execute_result"
    }
   ],
   "source": [
    "user_peak_Europe = pop_Europe['2021'] * ratio_ceiling_Europe\n",
    "user_Europe[\"Q4'21\"] = user_peak_Europe\n",
    "user_peak_Europe"
   ]
  },
  {
   "cell_type": "markdown",
   "metadata": {},
   "source": [
    "build a fit function for Europe"
   ]
  },
  {
   "cell_type": "code",
   "execution_count": 36,
   "metadata": {},
   "outputs": [],
   "source": [
    "time_saturate = 2022\n",
    "def func_Europe(x,b):\n",
    "    return b*x*x-2*time_saturate*b*x+b*time_saturate*time_saturate+user_peak_Europe"
   ]
  },
  {
   "cell_type": "markdown",
   "metadata": {},
   "source": [
    "fit the curve for first stage"
   ]
  },
  {
   "cell_type": "code",
   "execution_count": 37,
   "metadata": {},
   "outputs": [
    {
     "data": {
      "text/plain": [
       "array([102.05323711, 137.3236361 , 169.23494946, 197.78717721,\n",
       "       222.98031934, 244.81437585, 263.28934674, 278.40523202,\n",
       "       290.16203168, 298.55974572, 303.59837415])"
      ]
     },
     "execution_count": 37,
     "metadata": {},
     "output_type": "execute_result"
    }
   ],
   "source": [
    "time_adjusted = np.append(time,2022)\n",
    "user_estimate_Europe_before2021 = func_Europe(np.linspace(2011,2021,11),optimization.curve_fit(\n",
    "    func_Europe,time_adjusted,user_Europe)[0])\n",
    "user_estimate_Europe_before2021"
   ]
  },
  {
   "cell_type": "markdown",
   "metadata": {},
   "source": [
    "fit the curve for second stage"
   ]
  },
  {
   "cell_type": "code",
   "execution_count": 38,
   "metadata": {},
   "outputs": [
    {
     "data": {
      "text/plain": [
       "array([305.58319491, 305.88877808, 306.19466688, 306.50086152,\n",
       "       306.80736241, 307.11416976, 307.42128392])"
      ]
     },
     "execution_count": 38,
     "metadata": {},
     "output_type": "execute_result"
    }
   ],
   "source": [
    "user_estimate_Europe_after2021 = (pop_Europe[4:]*ratio_ceiling_Europe).values\n",
    "user_estimate_Europe_after2021"
   ]
  },
  {
   "cell_type": "markdown",
   "metadata": {},
   "source": [
    "combine into one estimate data"
   ]
  },
  {
   "cell_type": "code",
   "execution_count": 39,
   "metadata": {},
   "outputs": [
    {
     "data": {
      "text/plain": [
       "array([102.05323711, 137.3236361 , 169.23494946, 197.78717721,\n",
       "       222.98031934, 244.81437585, 263.28934674, 278.40523202,\n",
       "       290.16203168, 298.55974572, 303.59837415, 305.58319491,\n",
       "       305.88877808, 306.19466688, 306.50086152, 306.80736241,\n",
       "       307.11416976, 307.42128392])"
      ]
     },
     "execution_count": 39,
     "metadata": {},
     "output_type": "execute_result"
    }
   ],
   "source": [
    "user_estimate_Europe = np.append(user_estimate_Europe_before2021,user_estimate_Europe_after2021)\n",
    "user_estimate_Europe"
   ]
  },
  {
   "cell_type": "markdown",
   "metadata": {},
   "source": [
    "### 3.3.3 Asia and Pacific market (exclude China)"
   ]
  },
  {
   "cell_type": "markdown",
   "metadata": {},
   "source": [
    "I assume the saturation rate in Asia and Pacific would be 30% lower than one in US and Canada market, as well as exclude China population from Asia and Pacific population. The reasons includes China has not accepted Facebook and there are more competition in this market."
   ]
  },
  {
   "cell_type": "code",
   "execution_count": 40,
   "metadata": {},
   "outputs": [
    {
     "data": {
      "text/plain": [
       "0.20964187327823697"
      ]
     },
     "execution_count": 40,
     "metadata": {},
     "output_type": "execute_result"
    }
   ],
   "source": [
    "user_Asia_Pacific = data_dau.iloc[2]\n",
    "pop_Asia_Pacific_exclude_china = data_pop.iloc[2,0:-1]\n",
    "ratio_ceiling_Asia_Pacific = ratio_ceiling_US_Canada - 0.3\n",
    "ratio_ceiling_Asia_Pacific"
   ]
  },
  {
   "cell_type": "markdown",
   "metadata": {},
   "source": [
    "Calculate the peak point for first stage"
   ]
  },
  {
   "cell_type": "code",
   "execution_count": 41,
   "metadata": {},
   "outputs": [],
   "source": [
    "user_peak_Asia_Pacific = pop_Asia_Pacific_exclude_china['2021'] * ratio_ceiling_Asia_Pacific\n",
    "user_Asia_Pacific[\"Q4'21\"] = user_peak_Asia_Pacific"
   ]
  },
  {
   "cell_type": "markdown",
   "metadata": {},
   "source": [
    "build a fit function for Asia and Pacific Area"
   ]
  },
  {
   "cell_type": "code",
   "execution_count": 42,
   "metadata": {},
   "outputs": [],
   "source": [
    "def func_Asia_Pacific(x,b):\n",
    "    return b*x*x-2*time_saturate*b*x+b*time_saturate*time_saturate+user_peak_Asia_Pacific"
   ]
  },
  {
   "cell_type": "markdown",
   "metadata": {},
   "source": [
    "fit the curve for first stage"
   ]
  },
  {
   "cell_type": "code",
   "execution_count": 43,
   "metadata": {},
   "outputs": [
    {
     "data": {
      "text/plain": [
       "array([-151.47616292,   -5.26404629,  127.02310685,  245.3852965 ,\n",
       "        349.82252266,  440.33478534,  516.92208452,  579.58442022,\n",
       "        628.32179243,  663.13420115,  684.02164638])"
      ]
     },
     "execution_count": 43,
     "metadata": {},
     "output_type": "execute_result"
    }
   ],
   "source": [
    "user_estimate_Asia_Pacific_before2021 = func_Asia_Pacific(np.linspace(2011,2021,11),optimization.curve_fit(\n",
    "    func_Asia_Pacific,time_adjusted,user_Asia_Pacific)[0])\n",
    "user_estimate_Asia_Pacific_before2021"
   ]
  },
  {
   "cell_type": "markdown",
   "metadata": {},
   "source": [
    "fit the curve for second stage"
   ]
  },
  {
   "cell_type": "code",
   "execution_count": 44,
   "metadata": {},
   "outputs": [
    {
     "data": {
      "text/plain": [
       "array([699.69654585, 708.50329801, 717.40535673, 726.40370416,\n",
       "       735.49933255, 744.69324336, 753.98644895])"
      ]
     },
     "execution_count": 44,
     "metadata": {},
     "output_type": "execute_result"
    }
   ],
   "source": [
    "user_estimate_Asia_Pacific_after2021 = (pop_Asia_Pacific_exclude_china[4:]*ratio_ceiling_Asia_Pacific).values\n",
    "user_estimate_Asia_Pacific_after2021"
   ]
  },
  {
   "cell_type": "markdown",
   "metadata": {},
   "source": [
    "combine into one estimate data"
   ]
  },
  {
   "cell_type": "code",
   "execution_count": 45,
   "metadata": {},
   "outputs": [
    {
     "data": {
      "text/plain": [
       "array([-151.47616292,   -5.26404629,  127.02310685,  245.3852965 ,\n",
       "        349.82252266,  440.33478534,  516.92208452,  579.58442022,\n",
       "        628.32179243,  663.13420115,  684.02164638,  699.69654585,\n",
       "        708.50329801,  717.40535673,  726.40370416,  735.49933255,\n",
       "        744.69324336,  753.98644895])"
      ]
     },
     "execution_count": 45,
     "metadata": {},
     "output_type": "execute_result"
    }
   ],
   "source": [
    "user_estimate_Asia_Pacific = np.append(user_estimate_Asia_Pacific_before2021,user_estimate_Asia_Pacific_after2021)\n",
    "user_estimate_Asia_Pacific"
   ]
  },
  {
   "cell_type": "markdown",
   "metadata": {},
   "source": [
    "### 3.3.4. Rest of World market"
   ]
  },
  {
   "cell_type": "markdown",
   "metadata": {},
   "source": [
    "I assume the saturation rate in Rest of World would be 25% lower than one in US and Canada market"
   ]
  },
  {
   "cell_type": "code",
   "execution_count": 46,
   "metadata": {},
   "outputs": [
    {
     "data": {
      "text/plain": [
       "0.25964187327823696"
      ]
     },
     "execution_count": 46,
     "metadata": {},
     "output_type": "execute_result"
    }
   ],
   "source": [
    "user_Rest_World = data_dau.iloc[3]\n",
    "pop_Rest_World = data_pop.iloc[3,0:-1]\n",
    "ratio_ceiling_Rest_World = ratio_ceiling_US_Canada - 0.25\n",
    "ratio_ceiling_Rest_World"
   ]
  },
  {
   "cell_type": "markdown",
   "metadata": {},
   "source": [
    "Calculate the peak point for first stage"
   ]
  },
  {
   "cell_type": "code",
   "execution_count": 47,
   "metadata": {},
   "outputs": [],
   "source": [
    "user_peak_Rest_World = pop_Rest_World['2021'] * ratio_ceiling_Rest_World\n",
    "user_Rest_World[\"Q4'21\"] = user_peak_Rest_World"
   ]
  },
  {
   "cell_type": "markdown",
   "metadata": {},
   "source": [
    "build a fit function for Rest of World Area"
   ]
  },
  {
   "cell_type": "code",
   "execution_count": 48,
   "metadata": {},
   "outputs": [],
   "source": [
    "def func_Rest_World(x,b):\n",
    "    return b*x*x-2*time_saturate*b*x+b*time_saturate*time_saturate+user_peak_Rest_World"
   ]
  },
  {
   "cell_type": "markdown",
   "metadata": {},
   "source": [
    "fit the curve for first stage"
   ]
  },
  {
   "cell_type": "code",
   "execution_count": 49,
   "metadata": {},
   "outputs": [
    {
     "data": {
      "text/plain": [
       "array([-17.88439459,  76.01127306, 160.96449618, 236.97527475,\n",
       "       304.04360878, 362.16949829, 411.35294325, 451.59394366,\n",
       "       482.89249955, 505.24861089, 518.6622777 ])"
      ]
     },
     "execution_count": 49,
     "metadata": {},
     "output_type": "execute_result"
    }
   ],
   "source": [
    "user_estimate_Rest_World_before2021 = func_Rest_World(np.linspace(2011,2021,11),optimization.curve_fit(\n",
    "    func_Rest_World,time_adjusted,user_Rest_World)[0])\n",
    "user_estimate_Rest_World_before2021"
   ]
  },
  {
   "cell_type": "markdown",
   "metadata": {},
   "source": [
    "fit the curve for second stage"
   ]
  },
  {
   "cell_type": "code",
   "execution_count": 50,
   "metadata": {},
   "outputs": [
    {
     "data": {
      "text/plain": [
       "array([529.41110197, 535.76403516, 542.19320363, 548.69952207,\n",
       "       555.28391639, 561.94732336, 568.69069121])"
      ]
     },
     "execution_count": 50,
     "metadata": {},
     "output_type": "execute_result"
    }
   ],
   "source": [
    "user_estimate_Rest_World_after2021 = (pop_Rest_World[4:]*ratio_ceiling_Rest_World).values\n",
    "user_estimate_Rest_World_after2021"
   ]
  },
  {
   "cell_type": "markdown",
   "metadata": {},
   "source": [
    "combine into one estimate data"
   ]
  },
  {
   "cell_type": "code",
   "execution_count": 51,
   "metadata": {},
   "outputs": [
    {
     "data": {
      "text/plain": [
       "array([-17.88439459,  76.01127306, 160.96449618, 236.97527475,\n",
       "       304.04360878, 362.16949829, 411.35294325, 451.59394366,\n",
       "       482.89249955, 505.24861089, 518.6622777 , 529.41110197,\n",
       "       535.76403516, 542.19320363, 548.69952207, 555.28391639,\n",
       "       561.94732336, 568.69069121])"
      ]
     },
     "execution_count": 51,
     "metadata": {},
     "output_type": "execute_result"
    }
   ],
   "source": [
    "user_estimate_Rest_World = np.append(user_estimate_Rest_World_before2021,user_estimate_Rest_World_after2021)\n",
    "user_estimate_Rest_World"
   ]
  },
  {
   "cell_type": "markdown",
   "metadata": {},
   "source": [
    "### 3.3.5. Plot the four market estimation using subplots"
   ]
  },
  {
   "cell_type": "code",
   "execution_count": 80,
   "metadata": {},
   "outputs": [
    {
     "data": {
      "image/png": "[encoded data removed]",
      "text/plain": [
       "<Figure size 1080x1152 with 4 Axes>"
      ]
     },
     "metadata": {},
     "output_type": "display_data"
    }
   ],
   "source": [
    "time = np.linspace(2011.5,2018.5,29)\n",
    "time_extend = np.linspace(2011,2028,18)\n",
    "\n",
    "plt.figure(figsize=(15,16))\n",
    "sns.set_context('talk')\n",
    "\n",
    "plt.subplot(221)\n",
    "plt.plot(time,user_US_Canada,'o', label='Actual Growth')\n",
    "plt.plot(time_extend, user_estimate_US_Canada, ls='--',label='Simulated Growth')\n",
    "plt.legend()\n",
    "plt.xticks([2012,2014,2016,2018,2020,2022,2024,2026,2028])\n",
    "plt.ylabel(\"Number of Users (million)\", fontsize = 18)\n",
    "plt.title(\"US and Canada\", y = 1.03);\n",
    "\n",
    "user_Europe = data_dau.iloc[1]\n",
    "plt.subplot(222)\n",
    "plt.plot(time,user_Europe,'o', label='Actual Growth')\n",
    "plt.plot(time_extend, user_estimate_Europe, ls='--',label='Simulated Growth')\n",
    "plt.legend()\n",
    "#plt.xlabel(\"Year\")\n",
    "#plt.ylabel(\"Number of Users (million)\")\n",
    "plt.xticks([2012,2014,2016,2018,2020,2022,2024,2026,2028])\n",
    "plt.title(\"Europe\", y = 1.03);\n",
    "\n",
    "user_Asia_Pacific = data_dau.iloc[2]\n",
    "plt.subplot(223)\n",
    "plt.plot(time,user_Asia_Pacific,'o', label='Actual Growth')\n",
    "plt.plot(time_extend, user_estimate_Asia_Pacific, ls='--',label='Simulated Growth')\n",
    "plt.legend()\n",
    "plt.xlabel(\"Year\", fontsize = 18)\n",
    "plt.ylabel(\"Number of Users (million)\", fontsize = 18)\n",
    "plt.xticks([2012,2014,2016,2018,2020,2022,2024,2026,2028])\n",
    "plt.title(\"Asia and Pacific\", y = 1.03);\n",
    "\n",
    "user_Rest_World = data_dau.iloc[3]\n",
    "plt.subplot(224)\n",
    "plt.plot(time,user_Rest_World,'o', label='Actual Growth')\n",
    "plt.plot(time_extend, user_estimate_Rest_World, ls='--',label='Simulated Growth')\n",
    "plt.legend()\n",
    "plt.xlabel(\"Year\", fontsize = 18)\n",
    "#plt.ylabel(\"Number of Users (million)\")\n",
    "plt.xticks([2012,2014,2016,2018,2020,2022,2024,2026,2028])\n",
    "plt.title(\"Rest of World\", y = 1.03)\n",
    "plt.suptitle('Facebook User Growth Estimation Curve by Geography',y = 0.95);"
   ]
  },
  {
   "cell_type": "markdown",
   "metadata": {},
   "source": [
    "* The possible reason that the orange curve doesn't fit well in plot 'Asia and Pacific' includes that I might be too consevative about the estimation of saturation rate and the peak year. Because this area has huge population and great economical potential, user growth may still at the early stage of parabola, and will be far beyond my estimated limit."
   ]
  },
  {
   "cell_type": "markdown",
   "metadata": {},
   "source": [
    "### 3.4 User estimation in next 5 years"
   ]
  },
  {
   "cell_type": "markdown",
   "metadata": {},
   "source": [
    "Extract history data and estimate data in next 5 years"
   ]
  },
  {
   "cell_type": "code",
   "execution_count": 81,
   "metadata": {},
   "outputs": [
    {
     "data": {
      "text/plain": [
       "array([109.        , 161.        , 216.        , 263.        ,\n",
       "       319.        , 388.        , 441.        , 451.59394366,\n",
       "       482.89249955, 505.24861089, 518.6622777 , 529.41110197,\n",
       "       535.76403516])"
      ]
     },
     "execution_count": 81,
     "metadata": {},
     "output_type": "execute_result"
    }
   ],
   "source": [
    "index = pd.Series(range(2,30,4))\n",
    "\n",
    "user_US_Canada_combine = np.concatenate(\n",
    "    (user_US_Canada[index].values, user_estimate_US_Canada_after2018[:6]), axis=None)\n",
    "user_US_Canada_combine\n",
    "\n",
    "user_estimate_Europe = np.concatenate(\n",
    "    (user_estimate_Europe_before2021[7:], user_estimate_Europe_after2021[:2]), axis=None)\n",
    "user_Europe_combine = np.concatenate(\n",
    "    (user_Europe[index].values, user_estimate_Europe), axis=None)\n",
    "user_Europe_combine\n",
    "\n",
    "user_estimate_Asia_Pacific = np.concatenate(\n",
    "    (user_estimate_Asia_Pacific_before2021[7:], user_estimate_Asia_Pacific_after2021[:2]), axis=None)\n",
    "user_Asia_Pacific_combine = np.concatenate(\n",
    "    (user_Asia_Pacific[index].values, user_estimate_Asia_Pacific), axis=None)\n",
    "user_Asia_Pacific_combine\n",
    "\n",
    "user_estimate_Rest_World = np.concatenate(\n",
    "    (user_estimate_Rest_World_before2021[7:], user_estimate_Rest_World_after2021[:2]), axis=None)\n",
    "user_Rest_World_combine = np.concatenate(\n",
    "    (user_Rest_World[index].values, user_estimate_Rest_World), axis=None)\n",
    "user_Rest_World_combine"
   ]
  },
  {
   "cell_type": "code",
   "execution_count": 82,
   "metadata": {},
   "outputs": [
    {
     "data": {
      "text/html": [
       "<div>\n",
       "<style scoped>\n",
       "    .dataframe tbody tr th:only-of-type {\n",
       "        vertical-align: middle;\n",
       "    }\n",
       "\n",
       "    .dataframe tbody tr th {\n",
       "        vertical-align: top;\n",
       "    }\n",
       "\n",
       "    .dataframe thead th {\n",
       "        text-align: right;\n",
       "    }\n",
       "</style>\n",
       "<table border=\"1\" class=\"dataframe\">\n",
       "  <thead>\n",
       "    <tr style=\"text-align: right;\">\n",
       "      <th></th>\n",
       "      <th>2011</th>\n",
       "      <th>2012</th>\n",
       "      <th>2013</th>\n",
       "      <th>2014</th>\n",
       "      <th>2015</th>\n",
       "      <th>2016</th>\n",
       "      <th>2017</th>\n",
       "      <th>2018</th>\n",
       "      <th>2019</th>\n",
       "      <th>2020</th>\n",
       "      <th>2021</th>\n",
       "      <th>2022</th>\n",
       "      <th>2023</th>\n",
       "    </tr>\n",
       "    <tr>\n",
       "      <th>Region</th>\n",
       "      <th></th>\n",
       "      <th></th>\n",
       "      <th></th>\n",
       "      <th></th>\n",
       "      <th></th>\n",
       "      <th></th>\n",
       "      <th></th>\n",
       "      <th></th>\n",
       "      <th></th>\n",
       "      <th></th>\n",
       "      <th></th>\n",
       "      <th></th>\n",
       "      <th></th>\n",
       "    </tr>\n",
       "  </thead>\n",
       "  <tbody>\n",
       "    <tr>\n",
       "      <th>US and Canada</th>\n",
       "      <td>126.0</td>\n",
       "      <td>135.0</td>\n",
       "      <td>147.0</td>\n",
       "      <td>157.0</td>\n",
       "      <td>169.0</td>\n",
       "      <td>180.0</td>\n",
       "      <td>184.0</td>\n",
       "      <td>185.000000</td>\n",
       "      <td>186.295000</td>\n",
       "      <td>187.599065</td>\n",
       "      <td>188.912258</td>\n",
       "      <td>190.234644</td>\n",
       "      <td>191.566287</td>\n",
       "    </tr>\n",
       "    <tr>\n",
       "      <th>Europe</th>\n",
       "      <td>143.0</td>\n",
       "      <td>169.0</td>\n",
       "      <td>195.0</td>\n",
       "      <td>217.0</td>\n",
       "      <td>240.0</td>\n",
       "      <td>262.0</td>\n",
       "      <td>277.0</td>\n",
       "      <td>278.405232</td>\n",
       "      <td>290.162032</td>\n",
       "      <td>298.559746</td>\n",
       "      <td>303.598374</td>\n",
       "      <td>305.583195</td>\n",
       "      <td>305.888778</td>\n",
       "    </tr>\n",
       "    <tr>\n",
       "      <th>Asia and Pacifc</th>\n",
       "      <td>105.0</td>\n",
       "      <td>153.0</td>\n",
       "      <td>200.0</td>\n",
       "      <td>253.0</td>\n",
       "      <td>309.0</td>\n",
       "      <td>396.0</td>\n",
       "      <td>499.0</td>\n",
       "      <td>579.584420</td>\n",
       "      <td>628.321792</td>\n",
       "      <td>663.134201</td>\n",
       "      <td>684.021646</td>\n",
       "      <td>699.696546</td>\n",
       "      <td>708.503298</td>\n",
       "    </tr>\n",
       "    <tr>\n",
       "      <th>Rest of World</th>\n",
       "      <td>109.0</td>\n",
       "      <td>161.0</td>\n",
       "      <td>216.0</td>\n",
       "      <td>263.0</td>\n",
       "      <td>319.0</td>\n",
       "      <td>388.0</td>\n",
       "      <td>441.0</td>\n",
       "      <td>451.593944</td>\n",
       "      <td>482.892500</td>\n",
       "      <td>505.248611</td>\n",
       "      <td>518.662278</td>\n",
       "      <td>529.411102</td>\n",
       "      <td>535.764035</td>\n",
       "    </tr>\n",
       "  </tbody>\n",
       "</table>\n",
       "</div>"
      ],
      "text/plain": [
       "                  2011   2012   2013   2014   2015   2016   2017        2018  \\\n",
       "Region                                                                         \n",
       "US and Canada    126.0  135.0  147.0  157.0  169.0  180.0  184.0  185.000000   \n",
       "Europe           143.0  169.0  195.0  217.0  240.0  262.0  277.0  278.405232   \n",
       "Asia and Pacifc  105.0  153.0  200.0  253.0  309.0  396.0  499.0  579.584420   \n",
       "Rest of World    109.0  161.0  216.0  263.0  319.0  388.0  441.0  451.593944   \n",
       "\n",
       "                       2019        2020        2021        2022        2023  \n",
       "Region                                                                       \n",
       "US and Canada    186.295000  187.599065  188.912258  190.234644  191.566287  \n",
       "Europe           290.162032  298.559746  303.598374  305.583195  305.888778  \n",
       "Asia and Pacifc  628.321792  663.134201  684.021646  699.696546  708.503298  \n",
       "Rest of World    482.892500  505.248611  518.662278  529.411102  535.764035  "
      ]
     },
     "execution_count": 82,
     "metadata": {},
     "output_type": "execute_result"
    }
   ],
   "source": [
    "time_year = pd.Series(range(2011,2024))\n",
    "dataset = pd.DataFrame(user_US_Canada_combine.reshape(-1, len(user_US_Canada_combine)),columns=time_year)\n",
    "dataset.loc[1] = user_Europe_combine\n",
    "dataset.loc[2] = user_Asia_Pacific_combine\n",
    "dataset.loc[3] = user_Rest_World_combine\n",
    "\n",
    "dataset['Region'] = ['US and Canada','Europe','Asia and Pacifc','Rest of World']\n",
    "dataset = dataset.set_index('Region')\n",
    "dataset"
   ]
  },
  {
   "cell_type": "code",
   "execution_count": 170,
   "metadata": {},
   "outputs": [
    {
     "data": {
      "text/html": [
       "<div>\n",
       "<style scoped>\n",
       "    .dataframe tbody tr th:only-of-type {\n",
       "        vertical-align: middle;\n",
       "    }\n",
       "\n",
       "    .dataframe tbody tr th {\n",
       "        vertical-align: top;\n",
       "    }\n",
       "\n",
       "    .dataframe thead th {\n",
       "        text-align: right;\n",
       "    }\n",
       "</style>\n",
       "<table border=\"1\" class=\"dataframe\">\n",
       "  <thead>\n",
       "    <tr style=\"text-align: right;\">\n",
       "      <th></th>\n",
       "      <th>2011</th>\n",
       "      <th>2012</th>\n",
       "      <th>2013</th>\n",
       "      <th>2014</th>\n",
       "      <th>2015</th>\n",
       "      <th>2016</th>\n",
       "      <th>2017</th>\n",
       "      <th>2018</th>\n",
       "      <th>2019</th>\n",
       "      <th>2020</th>\n",
       "      <th>2021</th>\n",
       "      <th>2022</th>\n",
       "      <th>2023</th>\n",
       "    </tr>\n",
       "    <tr>\n",
       "      <th>Region</th>\n",
       "      <th></th>\n",
       "      <th></th>\n",
       "      <th></th>\n",
       "      <th></th>\n",
       "      <th></th>\n",
       "      <th></th>\n",
       "      <th></th>\n",
       "      <th></th>\n",
       "      <th></th>\n",
       "      <th></th>\n",
       "      <th></th>\n",
       "      <th></th>\n",
       "      <th></th>\n",
       "    </tr>\n",
       "  </thead>\n",
       "  <tbody>\n",
       "    <tr>\n",
       "      <th>US and Canada</th>\n",
       "      <td>126.0</td>\n",
       "      <td>135.0</td>\n",
       "      <td>147.0</td>\n",
       "      <td>157.0</td>\n",
       "      <td>169.0</td>\n",
       "      <td>180.0</td>\n",
       "      <td>184.0</td>\n",
       "      <td>185.000000</td>\n",
       "      <td>186.295000</td>\n",
       "      <td>187.599065</td>\n",
       "      <td>188.912258</td>\n",
       "      <td>190.234644</td>\n",
       "      <td>191.566287</td>\n",
       "    </tr>\n",
       "    <tr>\n",
       "      <th>Europe</th>\n",
       "      <td>269.0</td>\n",
       "      <td>304.0</td>\n",
       "      <td>342.0</td>\n",
       "      <td>374.0</td>\n",
       "      <td>409.0</td>\n",
       "      <td>442.0</td>\n",
       "      <td>461.0</td>\n",
       "      <td>463.405232</td>\n",
       "      <td>476.457032</td>\n",
       "      <td>486.158811</td>\n",
       "      <td>492.510633</td>\n",
       "      <td>495.817839</td>\n",
       "      <td>497.455065</td>\n",
       "    </tr>\n",
       "    <tr>\n",
       "      <th>Asia and Pacifc</th>\n",
       "      <td>374.0</td>\n",
       "      <td>457.0</td>\n",
       "      <td>542.0</td>\n",
       "      <td>627.0</td>\n",
       "      <td>718.0</td>\n",
       "      <td>838.0</td>\n",
       "      <td>960.0</td>\n",
       "      <td>1042.989652</td>\n",
       "      <td>1104.778824</td>\n",
       "      <td>1149.293012</td>\n",
       "      <td>1176.532279</td>\n",
       "      <td>1195.514385</td>\n",
       "      <td>1205.958363</td>\n",
       "    </tr>\n",
       "    <tr>\n",
       "      <th>Rest of World</th>\n",
       "      <td>483.0</td>\n",
       "      <td>618.0</td>\n",
       "      <td>758.0</td>\n",
       "      <td>890.0</td>\n",
       "      <td>1037.0</td>\n",
       "      <td>1226.0</td>\n",
       "      <td>1401.0</td>\n",
       "      <td>1494.583596</td>\n",
       "      <td>1587.671324</td>\n",
       "      <td>1654.541623</td>\n",
       "      <td>1695.194557</td>\n",
       "      <td>1724.925487</td>\n",
       "      <td>1741.722398</td>\n",
       "    </tr>\n",
       "  </tbody>\n",
       "</table>\n",
       "</div>"
      ],
      "text/plain": [
       "                  2011   2012   2013   2014    2015    2016    2017  \\\n",
       "Region                                                                \n",
       "US and Canada    126.0  135.0  147.0  157.0   169.0   180.0   184.0   \n",
       "Europe           269.0  304.0  342.0  374.0   409.0   442.0   461.0   \n",
       "Asia and Pacifc  374.0  457.0  542.0  627.0   718.0   838.0   960.0   \n",
       "Rest of World    483.0  618.0  758.0  890.0  1037.0  1226.0  1401.0   \n",
       "\n",
       "                        2018         2019         2020         2021  \\\n",
       "Region                                                                \n",
       "US and Canada     185.000000   186.295000   187.599065   188.912258   \n",
       "Europe            463.405232   476.457032   486.158811   492.510633   \n",
       "Asia and Pacifc  1042.989652  1104.778824  1149.293012  1176.532279   \n",
       "Rest of World    1494.583596  1587.671324  1654.541623  1695.194557   \n",
       "\n",
       "                        2022         2023  \n",
       "Region                                     \n",
       "US and Canada     190.234644   191.566287  \n",
       "Europe            495.817839   497.455065  \n",
       "Asia and Pacifc  1195.514385  1205.958363  \n",
       "Rest of World    1724.925487  1741.722398  "
      ]
     },
     "execution_count": 170,
     "metadata": {},
     "output_type": "execute_result"
    }
   ],
   "source": [
    "bottom = np.cumsum(dataset, axis=0)\n",
    "bottom"
   ]
  },
  {
   "cell_type": "code",
   "execution_count": 177,
   "metadata": {},
   "outputs": [
    {
     "data": {
      "text/html": [
       "<div>\n",
       "<style scoped>\n",
       "    .dataframe tbody tr th:only-of-type {\n",
       "        vertical-align: middle;\n",
       "    }\n",
       "\n",
       "    .dataframe tbody tr th {\n",
       "        vertical-align: top;\n",
       "    }\n",
       "\n",
       "    .dataframe thead th {\n",
       "        text-align: right;\n",
       "    }\n",
       "</style>\n",
       "<table border=\"1\" class=\"dataframe\">\n",
       "  <thead>\n",
       "    <tr style=\"text-align: right;\">\n",
       "      <th></th>\n",
       "      <th>2011</th>\n",
       "      <th>2012</th>\n",
       "      <th>2013</th>\n",
       "      <th>2014</th>\n",
       "      <th>2015</th>\n",
       "      <th>2016</th>\n",
       "      <th>2017</th>\n",
       "      <th>2018</th>\n",
       "      <th>2019</th>\n",
       "      <th>2020</th>\n",
       "      <th>2021</th>\n",
       "      <th>2022</th>\n",
       "      <th>2023</th>\n",
       "    </tr>\n",
       "    <tr>\n",
       "      <th>Region</th>\n",
       "      <th></th>\n",
       "      <th></th>\n",
       "      <th></th>\n",
       "      <th></th>\n",
       "      <th></th>\n",
       "      <th></th>\n",
       "      <th></th>\n",
       "      <th></th>\n",
       "      <th></th>\n",
       "      <th></th>\n",
       "      <th></th>\n",
       "      <th></th>\n",
       "      <th></th>\n",
       "    </tr>\n",
       "  </thead>\n",
       "  <tbody>\n",
       "    <tr>\n",
       "      <th>US and Canada</th>\n",
       "      <td>126.0</td>\n",
       "      <td>135.0</td>\n",
       "      <td>147.0</td>\n",
       "      <td>157.0</td>\n",
       "      <td>169.0</td>\n",
       "      <td>180.0</td>\n",
       "      <td>184.0</td>\n",
       "      <td>185.000000</td>\n",
       "      <td>186.295000</td>\n",
       "      <td>187.599065</td>\n",
       "      <td>188.912258</td>\n",
       "      <td>190.234644</td>\n",
       "      <td>191.566287</td>\n",
       "    </tr>\n",
       "    <tr>\n",
       "      <th>Europe</th>\n",
       "      <td>269.0</td>\n",
       "      <td>304.0</td>\n",
       "      <td>342.0</td>\n",
       "      <td>374.0</td>\n",
       "      <td>409.0</td>\n",
       "      <td>442.0</td>\n",
       "      <td>461.0</td>\n",
       "      <td>463.405232</td>\n",
       "      <td>476.457032</td>\n",
       "      <td>486.158811</td>\n",
       "      <td>492.510633</td>\n",
       "      <td>495.817839</td>\n",
       "      <td>497.455065</td>\n",
       "    </tr>\n",
       "    <tr>\n",
       "      <th>Asia and Pacifc</th>\n",
       "      <td>374.0</td>\n",
       "      <td>457.0</td>\n",
       "      <td>542.0</td>\n",
       "      <td>627.0</td>\n",
       "      <td>718.0</td>\n",
       "      <td>838.0</td>\n",
       "      <td>960.0</td>\n",
       "      <td>1042.989652</td>\n",
       "      <td>1104.778824</td>\n",
       "      <td>1149.293012</td>\n",
       "      <td>1176.532279</td>\n",
       "      <td>1195.514385</td>\n",
       "      <td>1205.958363</td>\n",
       "    </tr>\n",
       "    <tr>\n",
       "      <th>Rest of World</th>\n",
       "      <td>483.0</td>\n",
       "      <td>618.0</td>\n",
       "      <td>758.0</td>\n",
       "      <td>890.0</td>\n",
       "      <td>1037.0</td>\n",
       "      <td>1226.0</td>\n",
       "      <td>1401.0</td>\n",
       "      <td>1494.583596</td>\n",
       "      <td>1587.671324</td>\n",
       "      <td>1654.541623</td>\n",
       "      <td>1695.194557</td>\n",
       "      <td>1724.925487</td>\n",
       "      <td>1741.722398</td>\n",
       "    </tr>\n",
       "  </tbody>\n",
       "</table>\n",
       "</div>"
      ],
      "text/plain": [
       "                  2011   2012   2013   2014    2015    2016    2017  \\\n",
       "Region                                                                \n",
       "US and Canada    126.0  135.0  147.0  157.0   169.0   180.0   184.0   \n",
       "Europe           269.0  304.0  342.0  374.0   409.0   442.0   461.0   \n",
       "Asia and Pacifc  374.0  457.0  542.0  627.0   718.0   838.0   960.0   \n",
       "Rest of World    483.0  618.0  758.0  890.0  1037.0  1226.0  1401.0   \n",
       "\n",
       "                        2018         2019         2020         2021  \\\n",
       "Region                                                                \n",
       "US and Canada     185.000000   186.295000   187.599065   188.912258   \n",
       "Europe            463.405232   476.457032   486.158811   492.510633   \n",
       "Asia and Pacifc  1042.989652  1104.778824  1149.293012  1176.532279   \n",
       "Rest of World    1494.583596  1587.671324  1654.541623  1695.194557   \n",
       "\n",
       "                        2022         2023  \n",
       "Region                                     \n",
       "US and Canada     190.234644   191.566287  \n",
       "Europe            495.817839   497.455065  \n",
       "Asia and Pacifc  1195.514385  1205.958363  \n",
       "Rest of World    1724.925487  1741.722398  "
      ]
     },
     "execution_count": 177,
     "metadata": {},
     "output_type": "execute_result"
    }
   ],
   "source": [
    "bottom"
   ]
  },
  {
   "cell_type": "code",
   "execution_count": 200,
   "metadata": {},
   "outputs": [
    {
     "data": {
      "image/png": "[encoded data removed]",
      "text/plain": [
       "<Figure size 1152x720 with 1 Axes>"
      ]
     },
     "metadata": {},
     "output_type": "display_data"
    }
   ],
   "source": [
    "ax = dataset.T.plot.bar(stacked=True, color = ('b','cornflowerblue','lightsteelblue','lightblue'),figsize=(16,10))\n",
    "#ax.annotate('x',xy=(2015,1000))\n",
    "plt.xticks(rotation=0)\n",
    "plt.xlabel(\"Year\",fontsize=20)\n",
    "plt.ylabel(\"Number of Users (million)\", fontsize=20)\n",
    "plt.title(\"Facebook User Growth By Geography in Last 8 Years and Estimated in next 5 Years\", y = 1.03);\n",
    "bottom = np.cumsum(dataset, axis=0)\n",
    "for i, v in enumerate(dataset.iloc[0,:]):\n",
    "    ax.text(i-0.17, v-70, str(round(v)),fontsize=12)\n",
    "for i, v in enumerate(dataset.iloc[1,:]):\n",
    "    ax.text(i-0.17, v+bottom.iloc[0,i]-80, str(round(v)),fontsize=12)\n",
    "for i, v in enumerate(dataset.iloc[2,:]):\n",
    "    ax.text(i-0.17, v+bottom.iloc[1,i]-80, str(round(v)),fontsize=12)\n",
    "for i, v in enumerate(dataset.iloc[3,:]):\n",
    "    ax.text(i-0.17, v+bottom.iloc[2,i]-80, str(round(v)),fontsize=12)\n",
    "for i, v in enumerate(bottom.iloc[3,:]):\n",
    "    ax.text(i-0.2, v+40, str(round(v)),fontsize=12)"
   ]
  }
 ],
 "metadata": {
  "kernelspec": {
   "display_name": "Python 3",
   "language": "python",
   "name": "python3"
  },
  "language_info": {
   "codemirror_mode": {
    "name": "ipython",
    "version": 3
   },
   "file_extension": ".py",
   "mimetype": "text/x-python",
   "name": "python",
   "nbconvert_exporter": "python",
   "pygments_lexer": "ipython3",
   "version": "3.6.5"
  }
 },
 "nbformat": 4,
 "nbformat_minor": 2
}
